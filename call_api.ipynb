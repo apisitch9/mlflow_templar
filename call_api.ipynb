{
 "cells": [
  {
   "cell_type": "code",
   "execution_count": 2,
   "metadata": {},
   "outputs": [
    {
     "ename": "SyntaxError",
     "evalue": "invalid syntax (<ipython-input-2-34f9f14deafe>, line 2)",
     "output_type": "error",
     "traceback": [
      "\u001b[0;36m  File \u001b[0;32m\"<ipython-input-2-34f9f14deafe>\"\u001b[0;36m, line \u001b[0;32m2\u001b[0m\n\u001b[0;31m    curl http://127.0.0.1:1234/invocations -H 'Content-Type: application/json' -d '{\u001b[0m\n\u001b[0m            ^\u001b[0m\n\u001b[0;31mSyntaxError\u001b[0m\u001b[0;31m:\u001b[0m invalid syntax\n"
     ]
    }
   ],
   "source": [
    "# split-oriented\n",
    "curl http://127.0.0.1:1234/invocations -H 'Content-Type: application/json' -d '{\n",
    "    \"columns\": [ \"SepalLengthCm\",\"SepalWidthCm\",\"PetalLengthCm\",\"PetalWidthCm\"],\n",
    "    \"data\": [[1, 2, 3,1], [4, 5, 6, 4]]\n",
    "}'"
   ]
  },
  {
   "cell_type": "code",
   "execution_count": 18,
   "metadata": {},
   "outputs": [
    {
     "name": "stdout",
     "output_type": "stream",
     "text": [
      "This predictor only supports the following content types, ['text/csv', 'application/json', 'application/json; format=pandas-records', 'application/json; format=pandas-split', 'application/json-numpy-split']. Got 'application/x-www-form-urlencoded'.\n"
     ]
    }
   ],
   "source": [
    "import requests\n",
    "url = \"http://127.0.0.1:1234/invocations\"\n",
    "payload = dict(SepalLengthCm=3, SepalWidthCm=3, PetalLengthCm=3, PetalWidthCm=3)\n",
    "res = requests.post(url, data=payload)\n",
    "\n",
    "print(res.text)"
   ]
  },
  {
   "cell_type": "code",
   "execution_count": 39,
   "metadata": {},
   "outputs": [
    {
     "name": "stdout",
     "output_type": "stream",
     "text": [
      "[2.0, 2.0, 2.0]\n"
     ]
    }
   ],
   "source": [
    "# `sample_input` is a JSON-serialized pandas DataFrame with the `split` orientation\n",
    "url = \"http://127.0.0.1:1234/invocations\"\n",
    "\n",
    "sample_input = {\n",
    "    \"columns\": [\n",
    "        \"SepalLengthCm\",\n",
    "        \"SepalWidthCm\",\n",
    "        \"PetalLengthCm\",\n",
    "        \"PetalWidthCm\"\n",
    "    ],\n",
    "    \"data\": [\n",
    "        [8.8, 0.045, 0.36, 1.001],\n",
    "        [1.8, 0.15, 4, 1.001],\n",
    "        [1.8, 0.15, 4, 1.001]\n",
    "       \n",
    "    ]\n",
    "}\n",
    "\n",
    "response = requests.post(\n",
    "              url=url, data=json.dumps(sample_input),\n",
    "              headers={\"Content-type\": \"application/json\"})\n",
    "response_json = json.loads(response.text)\n",
    "print(response_json)"
   ]
  }
 ],
 "metadata": {
  "kernelspec": {
   "display_name": "Python 3",
   "language": "python",
   "name": "python3"
  },
  "language_info": {
   "codemirror_mode": {
    "name": "ipython",
    "version": 3
   },
   "file_extension": ".py",
   "mimetype": "text/x-python",
   "name": "python",
   "nbconvert_exporter": "python",
   "pygments_lexer": "ipython3",
   "version": "3.7.6"
  }
 },
 "nbformat": 4,
 "nbformat_minor": 4
}
